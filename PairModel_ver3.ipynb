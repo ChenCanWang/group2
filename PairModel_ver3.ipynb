{
 "cells": [
  {
   "cell_type": "code",
   "execution_count": 1,
   "metadata": {},
   "outputs": [],
   "source": [
    "import numpy as np \n",
    "#from sympy import *\n",
    "import matplotlib.pyplot as plt  "
   ]
  },
  {
   "cell_type": "code",
   "execution_count": 2,
   "metadata": {},
   "outputs": [],
   "source": [
    "particle = 4\n",
    "# Maybe we deal with only the \n",
    "# two-pair problem first.\n",
    "line = 6\n",
    "\n",
    "delta = 1.0"
   ]
  },
  {
   "cell_type": "code",
   "execution_count": 3,
   "metadata": {},
   "outputs": [
    {
     "name": "stdout",
     "output_type": "stream",
     "text": [
      "There are 15 states: \n",
      "\n",
      "[(0, 1), (0, 2), (0, 3), (0, 4), (0, 5), (1, 2), (1, 3), (1, 4), (1, 5), (2, 3), (2, 4), (2, 5), (3, 4), (3, 5), (4, 5)]\n",
      "\n",
      "\n"
     ]
    }
   ],
   "source": [
    "# set the particles to pairs\n",
    "pair = particle/2\n",
    "if(particle%2 != 0):\n",
    "\tprint('Odd number of particles.')\n",
    "\texit(0)\n",
    "\n",
    "if(pair>line):\n",
    "\tprint('Wrong configuration.')\n",
    "\texit(0)\n",
    " \n",
    "\n",
    "if(pair==1):\n",
    "\tstates=[ i for i in range(line)] \n",
    "elif(pair==2):\n",
    "\tstates = [(i,j) for i in range(line) \n",
    "\t                for j in range(i,line) if j!=i]\n",
    "elif(pair==3):\n",
    "\tstates = [(i,j,k) for i in range(line) \n",
    "\t                  for j in range(i,line) \n",
    "\t                  for k in range(j,line) \n",
    "\t                  if j!=i and k!=j]\n",
    "elif(pair==4):\n",
    "\tstates = [(i,j,k,l) for i in range(line) \n",
    "\t                    for j in range(i,line) \n",
    "\t                    for k in range(j,line) \n",
    "\t                    for l in range(k,line) \n",
    "\t                    if j!=i and k!=j and l!=k]\t                  \n",
    "\n",
    "config_num  = len(states)\n",
    "\n",
    "print('There are %d states: \\n'  %config_num)\n",
    "print(states)\n",
    "\n",
    "print('\\n')"
   ]
  },
  {
   "cell_type": "code",
   "execution_count": 4,
   "metadata": {},
   "outputs": [],
   "source": [
    "# evaluate the sp operator \n",
    "def h_sp(A):\n",
    "\tif(pair==1):\n",
    "\t\treturn A\n",
    "\telse:\n",
    "\t\treturn sum(A)"
   ]
  },
  {
   "cell_type": "code",
   "execution_count": 5,
   "metadata": {},
   "outputs": [],
   "source": [
    "# evaluate the pair term \n",
    "def h_pr(A,B):\n",
    "\tif(pair==1):\n",
    "\t\tif(A==B):\n",
    "\t\t\treturn 2\n",
    "\t\telse:\n",
    "\t\t\treturn 1\n",
    "\telse:\t\n",
    "\t\tif(len(A)!=len(B)):\n",
    "\t\t\tprint('Something wrong.')\n",
    "\t\t\texit(0)\n",
    "\t\telif(pair!=1):\n",
    "\t\t\tn = len(A)\n",
    "\t\ts1 = set(A)\n",
    "\t\ts2 = set(B)\n",
    "\t\tm = len(s1&s2)\n",
    "   \n",
    "\t\tif(n==m):\n",
    "\t\t\treturn 2\n",
    "\t\telif(n - m ==1):\n",
    "\t\t\treturn 1\n",
    "\t\telse:\t\n",
    "\t\t\treturn 0"
   ]
  },
  {
   "cell_type": "code",
   "execution_count": 6,
   "metadata": {},
   "outputs": [
    {
     "name": "stdout",
     "output_type": "stream",
     "text": [
      "The form of the matrix is: \n",
      "\n",
      "['-2g+2d', '-1g', '-1g', '-1g', '-1g', '-1g', '-1g', '-1g', '-1g', '-0g', '-0g', '-0g', '-0g', '-0g', '-0g']\n",
      "['-1g', '-2g+4d', '-1g', '-1g', '-1g', '-1g', '-0g', '-0g', '-0g', '-1g', '-1g', '-1g', '-0g', '-0g', '-0g']\n",
      "['-1g', '-1g', '-2g+6d', '-1g', '-1g', '-0g', '-1g', '-0g', '-0g', '-1g', '-0g', '-0g', '-1g', '-1g', '-0g']\n",
      "['-1g', '-1g', '-1g', '-2g+8d', '-1g', '-0g', '-0g', '-1g', '-0g', '-0g', '-1g', '-0g', '-1g', '-0g', '-1g']\n",
      "['-1g', '-1g', '-1g', '-1g', '-2g+10d', '-0g', '-0g', '-0g', '-1g', '-0g', '-0g', '-1g', '-0g', '-1g', '-1g']\n",
      "['-1g', '-1g', '-0g', '-0g', '-0g', '-2g+6d', '-1g', '-1g', '-1g', '-1g', '-1g', '-1g', '-0g', '-0g', '-0g']\n",
      "['-1g', '-0g', '-1g', '-0g', '-0g', '-1g', '-2g+8d', '-1g', '-1g', '-1g', '-0g', '-0g', '-1g', '-1g', '-0g']\n",
      "['-1g', '-0g', '-0g', '-1g', '-0g', '-1g', '-1g', '-2g+10d', '-1g', '-0g', '-1g', '-0g', '-1g', '-0g', '-1g']\n",
      "['-1g', '-0g', '-0g', '-0g', '-1g', '-1g', '-1g', '-1g', '-2g+12d', '-0g', '-0g', '-1g', '-0g', '-1g', '-1g']\n",
      "['-0g', '-1g', '-1g', '-0g', '-0g', '-1g', '-1g', '-0g', '-0g', '-2g+10d', '-1g', '-1g', '-1g', '-1g', '-0g']\n",
      "['-0g', '-1g', '-0g', '-1g', '-0g', '-1g', '-0g', '-1g', '-0g', '-1g', '-2g+12d', '-1g', '-1g', '-0g', '-1g']\n",
      "['-0g', '-1g', '-0g', '-0g', '-1g', '-1g', '-0g', '-0g', '-1g', '-1g', '-1g', '-2g+14d', '-0g', '-1g', '-1g']\n",
      "['-0g', '-0g', '-1g', '-1g', '-0g', '-0g', '-1g', '-1g', '-0g', '-1g', '-1g', '-0g', '-2g+14d', '-1g', '-1g']\n",
      "['-0g', '-0g', '-1g', '-0g', '-1g', '-0g', '-1g', '-0g', '-1g', '-1g', '-0g', '-1g', '-1g', '-2g+16d', '-1g']\n",
      "['-0g', '-0g', '-0g', '-1g', '-1g', '-0g', '-0g', '-1g', '-1g', '-0g', '-1g', '-1g', '-1g', '-1g', '-2g+18d']\n",
      "\n",
      "\n"
     ]
    }
   ],
   "source": [
    "# initialize a unit matrix with define dimension \n",
    "H = np.eye(config_num)\n",
    "\n",
    "Hc= [ ['123' for i in range(config_num)] \n",
    "      for i in range(config_num)]\n",
    "\n",
    "\n",
    "# The form of the matrix...\n",
    "print('The form of the matrix is: \\n')\n",
    "for i in range(config_num): \n",
    "\tfor j in range(config_num):\n",
    "\t\tHc[i][j]='-'+str(int(h_pr(states[i],states[j])))+'g'\n",
    "\t\tif(i==j):\n",
    "\t\t\tHc[i][j] = Hc[i][j] + '+' \\\n",
    "\t\t\t       + str(int(2*delta*h_sp(states[i])))   \\\n",
    "\t\t\t       +'d'\n",
    "\n",
    "\n",
    "for i in range(len(states)):\n",
    "\tprint(Hc[i])\n",
    "\n",
    "print('\\n')"
   ]
  },
  {
   "cell_type": "code",
   "execution_count": 7,
   "metadata": {},
   "outputs": [
    {
     "name": "stdout",
     "output_type": "stream",
     "text": [
      "-1.2168212867275818\n",
      "-0.8899412327023004\n",
      "-0.5850688280055709\n",
      "-0.31383341852221136\n",
      "-0.09935634745855415\n",
      "0.0\n",
      "-0.18805523235156585\n",
      "-0.8963690733690393\n",
      "-2.0147757814463416\n",
      "-3.3364551606788164\n",
      "-4.75911970624249\n"
     ]
    }
   ],
   "source": [
    "# Now consider the  \n",
    "\n",
    "\n",
    "coupling = np.linspace(-1,1,11)\n",
    "\n",
    "egv = [] # as the eigenvalue of H\n",
    "crt = [] # as the correlation energy\n",
    "\n",
    "\n",
    "\n",
    "# find the minimum of the eigenvalues \n",
    "for g in coupling:\n",
    "# construction of the Hamiltonian\n",
    "\tfor i in range(config_num): \n",
    "\t\tfor j in range(config_num):\n",
    "\t\t\tH[i,j]=-g*h_pr(states[i],states[j])\n",
    "\t\t\tif(i==j):\n",
    "\t\t\t\tH[i,j] = H[i,j] + delta*h_sp(states[i])\n",
    "\n",
    "\n",
    "    # get the eigenvalues of H\n",
    "\tu, v = np.linalg.eig(H)\n",
    "\tegv.append(min(u))\n",
    "\n",
    "\tif(pair==1):\n",
    "\t    crt.append(min(u) + 2*g)\n",
    "\telse:\n",
    "\t\tcrt.append(min(u)- sum(states[0])* delta + 2*g)\n",
    "\n",
    "for i in range(len(crt)): \t\t\n",
    "\t print(crt[i])"
   ]
  },
  {
   "cell_type": "code",
   "execution_count": 8,
   "metadata": {},
   "outputs": [
    {
     "data": {
      "image/png": "[encoded data removed]",
      "text/plain": [
       "<Figure size 840x720 with 1 Axes>"
      ]
     },
     "metadata": {},
     "output_type": "display_data"
    }
   ],
   "source": [
    "#plt.tick_params(width=20,direction='in',\n",
    "#\t            labelsize='large')\n",
    "plt.figure(figsize=(14,12),dpi=60)\n",
    "\n",
    "plt.plot(coupling,crt,'r-o',lw=2.5, markersize=8)\n",
    "plt.plot((-1,1),(0,0),'g--',lw=2.5)\n",
    "plt.xlim(-1,1)\n",
    "plt.ylim(-4,0.2)\n",
    "plt.xlabel('coupling stength $g$ ',fontsize=20)\n",
    "plt.ylabel('Correlation energy',fontsize=20)\n",
    "plt.tick_params(axis='x', which='major', labelsize=18)\n",
    "plt.tick_params(axis='y', which='major', labelsize=18)\n",
    "plt.savefig('result.pdf',format='pdf')\n"
   ]
  },
  {
   "cell_type": "code",
   "execution_count": null,
   "metadata": {},
   "outputs": [],
   "source": []
  }
 ],
 "metadata": {
  "kernelspec": {
   "display_name": "Python 3",
   "language": "python",
   "name": "python3"
  },
  "language_info": {
   "codemirror_mode": {
    "name": "ipython",
    "version": 3
   },
   "file_extension": ".py",
   "mimetype": "text/x-python",
   "name": "python",
   "nbconvert_exporter": "python",
   "pygments_lexer": "ipython3",
   "version": "3.6.5"
  }
 },
 "nbformat": 4,
 "nbformat_minor": 2
}
